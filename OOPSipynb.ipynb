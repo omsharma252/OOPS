{
  "nbformat": 4,
  "nbformat_minor": 0,
  "metadata": {
    "colab": {
      "provenance": []
    },
    "kernelspec": {
      "name": "python3",
      "display_name": "Python 3"
    },
    "language_info": {
      "name": "python"
    }
  },
  "cells": [
    {
      "cell_type": "markdown",
      "source": [
        "# OOPS\n"
      ],
      "metadata": {
        "id": "xLfmX66LmNHJ"
      }
    },
    {
      "cell_type": "markdown",
      "source": [
        "1. What is Object-Oriented Programming (OOP)?\n",
        "  - Object-Oriented Programming (OOP) is a programming paradigm based on the concept of \"objects\".\n",
        "Objects contain data (attributes) and code (methods) to manipulate that data.\n",
        "It emphasizes principles like encapsulation, inheritance, and polymorphism.\n",
        "OOP helps organize code for better reusability, scalability, and maintainability.\n",
        "\n",
        "2. What is a class in OOP?\n",
        "  - A class in OOP is a blueprint for creating objects.\n",
        "It defines properties (attributes) and behaviors (methods) that its objects will have.\n",
        "Classes help structure code by grouping related data and functions together.\n",
        "Objects are individual instances created from a class.\n",
        "\n",
        "3. What is an object in OOP?\n",
        "  - an object in oops is an instance of a class. it represents a specific entity with its own data(attributes) and behaviour (methods).objects are created using a class as a blue print\n",
        "  they interact with each other to perform tasks in an OOP program.\n",
        "\n",
        "4. What is the difference between abstraction and encapsulation?\n",
        "  - Abstaction hides complex implementation details and shows only essential features to the user.\n",
        "  encapsulation bundles data and methods into a single unit(class) and restricts direct access to some componets.Abstraction is about what an object does, while encapsulation is about how it is done and protected.\n",
        "Together, they improve code clarity, security, and maintainability.\n",
        "\n",
        "5. What are dunder methods in Python?\n",
        "  - Dunder method in python are special methods with names that start and end with double underscores(eg.__init__,__str__)they are used to define how objects behave with built in functions and operations ,for example-__add__ lets you see + with objects, and __len__ defines behaviour for len()\n",
        "  they allow you to customise objects and make classes more pythoic.\n",
        "6. Explain the concept of inheritance in OOP?\n",
        "  - **Inheritance** in OOP is the mechanism where one class (child or subclass) inherits properties and behaviors (attributes and methods) from another class (parent or superclass).It promotes code reusability, allowing shared code to be written once in the parent class.\n",
        "The child class can also extend or override the parent’s methods to add or change functionality.\n",
        "This helps build a hierarchical relationship between classes, simplifying code maintenance.\n",
        "\n",
        "7. What is polymorphism in OOP?\n",
        "  - **Polymorphism** in OOP means the ability of different classes to respond to the same method call in different ways.\n",
        "It allows methods with the same name to behave differently based on the object calling them.\n",
        "This can be achieved through method overriding (in subclasses) or method overloading (in some languages).\n",
        "Polymorphism improves flexibility and enables code to work with objects of different types seamlessly.\n",
        "\n",
        "8. How is encapsulation achieved in Python?\n",
        "  - Encapsulation in Python is achieved by restricting access to an object’s internal data and methods.\n",
        "This is done by using naming conventions like a single underscore `_` (protected) or double underscore `__` (private) before attribute or method names.\n",
        "Python doesn’t enforce strict access control but relies on these conventions to indicate intended privacy.\n",
        "Getter and setter methods (or properties) are often used to control access and modification safely.\n",
        "\n",
        "9. What is a constructor in Python?\n",
        "  - A constructor in Python is a special method called __init__.\n",
        "It automatically runs when a new object is created from a class.\n",
        "It initializes the object’s attributes with given values.\n",
        "Constructors help set up the object’s initial state.\n",
        "\n",
        "10. What are class and static methods in Python?\n",
        "  - Class methods in Python use the @classmethod decorator and take cls as the first argument; they can access or modify class-level data.\n",
        "Static methods use the @staticmethod decorator and take no special first argument; they can’t access class or instance data and are used for utility functions.\n",
        "Both differ from instance methods, which use self to access object-specific data.\n",
        "Use class methods for factory methods or modifying class state, and static methods for general-purpose logic.\n",
        "\n",
        "11. what is mathod overloading in python?\n",
        "  - Method overloading means having multiple methods with the same name but different parameters.\n",
        "Python **does not support true method overloading**—only the latest method definition is used.\n",
        "However, it can be **simulated** using default arguments, `*args`, or `**kwargs`.\n",
        "This allows a single method to handle different numbers or types of arguments.\n",
        "\n",
        "12. What is method overriding in OOP?\n",
        "  - Method overriding in OOP (Object-Oriented Programming) occurs when a subclass provides a specific implementation of a method that is already defined in its parent class.\n",
        "The method in the subclass overrides the one in the superclass using the same name and parameters.\n",
        "It allows customizing or extending the behavior of inherited methods.\n",
        "Python supports this naturally through inheritance.\n",
        "\n",
        "13. What is a property decorator in Python?\n",
        "  - The @property decorator in Python lets you define a method that can be accessed like an attribute.\n",
        "It's commonly used to control access to private attributes while keeping a clean interface.\n",
        "You can also define @<property>.setter and @<property>.deleter to modify or delete the value.\n",
        "It supports encapsulation and adds logic when getting or setting attributes.\n",
        "\n",
        "14. Why is polymorphism important in OOP?\n",
        "  - **Polymorphism** is important in OOP because it allows objects of different classes to be treated **through a common interface**.\n",
        "It enables **code reusability**, **flexibility**, and **extensibility**, as the same method name can behave differently based on the object.\n",
        "This simplifies code and makes it easier to maintain and scale.\n",
        "For example, different classes can implement the same method (like `draw()`), and the correct one is called at runtime.\n",
        "\n",
        "15. What is an abstract class in Python?\n",
        "  - An **abstract class** in Python is a base class that **can’t be instantiated** and defines one or more **abstract methods** using the `abc` module.\n",
        "These abstract methods must be **implemented by subclasses**.\n",
        "Abstract classes enforce a common interface and help design consistent APIs.\n",
        "They’re useful for defining shared behavior while leaving specific details to subclasses.\n",
        "\n",
        "16.  What are the advantages of OOP?\n",
        "  - OOP improves code organization by grouping data and behavior into classes (modularity).\n",
        "It promotes code reuse through inheritance and easy extension.\n",
        "Encapsulation protects data by restricting direct access.\n",
        "Polymorphism allows different objects to be used interchangeably, increasing flexibility and maintainability.\n",
        "\n",
        "17. What is the difference between a class variable and an instance variable?\n",
        "  - * **Class variables** are shared by all instances of a class; they belong to the class itself.\n",
        "* **Instance variables** are unique to each object and store data specific to that instance.\n",
        "* Changing a class variable affects all instances, while changing an instance variable only affects that particular object.\n",
        "\n",
        "18. What is multiple inheritance in Python?\n",
        "  - **Multiple inheritance** in Python means a class can inherit from **more than one parent class**.\n",
        "This allows a subclass to combine behaviors and attributes from multiple classes.\n",
        "Python handles this using the **Method Resolution Order (MRO)** to determine which parent method to call if there's a conflict.\n",
        "It enables more flexible and reusable code but can increase complexity.\n",
        "\n",
        "19. Explain the purpose of ‘’__str__’ and ‘__repr__’ ‘ methods in Python?\n",
        "  - The `__str__` and `__repr__` methods in Python are used to define how objects are represented as strings:\n",
        "\n",
        "* `__str__` provides a **user-friendly, readable** string representation, used by `print()` and `str()`.\n",
        "* `__repr__` provides an **unambiguous, official** string representation, ideally one that could recreate the object, used by `repr()` and in the interactive shell.\n",
        "\n",
        "If `__str__` is not defined, Python falls back to `__repr__`.\n",
        "\n",
        "20. What is the significance of the ‘super()’ function in Python?\n",
        "  - The `super()` function in Python is used to **call methods from a parent or superclass**.\n",
        "It allows you to access and extend the functionality of the inherited class without hardcoding its name.\n",
        "`super()` is commonly used in constructors (`__init__`) to initialize parent class attributes.\n",
        "It’s especially useful in **multiple inheritance** to ensure the correct method resolution order (MRO).\n",
        "\n",
        "21. What is the significance of the __del__ method in Python?\n",
        "- The `__del__` method in Python is a **destructor**, called automatically when an object is about to be destroyed.\n",
        "It’s used to perform **cleanup actions**, like closing files or releasing resources.\n",
        "However, relying on `__del__` is discouraged, as object deletion timing is not guaranteed (due to garbage collection).\n",
        "For better control, use context managers (`with` statement) instead.\n",
        "22. What is the difference between @staticmethod and @classmethod in Python?\n",
        "  - Here’s the key difference between `@staticmethod` and `@classmethod` in Python:\n",
        "\n",
        "* **@staticmethod**: Doesn’t take `self` or `cls`; can’t access class or instance data. Used for utility functions related to the class.\n",
        "* **@classmethod**: Takes `cls` as the first argument; can access or modify class-level data. Used for factory methods or altering class state.\n",
        "  Both are called on the class, not instances, but `@classmethod` knows about the class, while `@staticmethod` doesn’t.\n",
        "23. How does polymorphism work in Python with inheritance?\n",
        "  - Polymorphism in Python with inheritance allows different subclasses to define their own versions of a method from a common parent class.\n",
        "When a method is called, Python determines which version to run based on the object's class.\n",
        "This enables writing flexible and reusable code that works across different object types.\n",
        "It’s a key feature for achieving dynamic behavior in OOP.\n",
        "\n",
        "24. What is method chaining in Python OOP?\n",
        "  - **Method chaining** in Python is a technique where multiple methods are called on the same object in a single line.\n",
        "Each method returns `self`, allowing the next method to be chained.\n",
        "It improves code readability and is useful for setting multiple attributes or performing step-by-step operations.\n",
        "Example: `obj.method1().method2().method3()`\n",
        "\n",
        "25. What is the purpose of the __call__ method in Python?\n",
        "  - The `__call__` method in Python allows an object to be **called like a function**.\n",
        "When defined in a class, calling an instance as `obj()` will invoke `obj.__call__()`.\n",
        "It’s useful for creating **callable objects**, often seen in decorators, function wrappers, or custom behavior.\n",
        "This adds flexibility by blending object and function behavior.\n",
        "\n",
        "\n",
        "\n"
      ],
      "metadata": {
        "id": "zwcUnXDBmRsz"
      }
    },
    {
      "cell_type": "code",
      "source": [
        "#Create a parent class Animal with a method speak() that prints a generic message. Create a child class Dog that overrides the speak() method to print \"Bark!\".\n",
        "class animal:\n",
        "  def speak(self):\n",
        "    print(\"generic message\")\n",
        "class dog(animal):\n",
        "  def speak(self):\n",
        "    print(\"bark\")\n",
        "d=dog()\n",
        "d.speak()"
      ],
      "metadata": {
        "colab": {
          "base_uri": "https://localhost:8080/"
        },
        "id": "h4TSk-GQMQ_G",
        "outputId": "e970fa07-7340-4f9a-b1b9-221842aeac38"
      },
      "execution_count": null,
      "outputs": [
        {
          "output_type": "stream",
          "name": "stdout",
          "text": [
            "bark\n"
          ]
        }
      ]
    },
    {
      "cell_type": "code",
      "source": [
        "# Write a program to create an abstract class Shape with a method area(). Derive classes Circle and Rectangle from it and implement the area() method in both.\n",
        "class shape:\n",
        "  def area(self):\n",
        "    pass\n",
        "class circle(shape):\n",
        "  def area(self,r):\n",
        "    return 3.14*r*r\n",
        "class rectangle(shape):\n",
        "  def area(self,l,b):\n",
        "    return l*b\n",
        "d=circle()\n",
        "d.area(5)\n",
        "e=rectangle()\n",
        "e.area(5,6)"
      ],
      "metadata": {
        "id": "wttqKchSPd4Q",
        "colab": {
          "base_uri": "https://localhost:8080/"
        },
        "outputId": "a6bfcf8c-7c7e-4ca4-9caa-efdf57e52766"
      },
      "execution_count": null,
      "outputs": [
        {
          "output_type": "execute_result",
          "data": {
            "text/plain": [
              "30"
            ]
          },
          "metadata": {},
          "execution_count": 3
        }
      ]
    },
    {
      "cell_type": "code",
      "source": [
        "# Implement a multi-level inheritance scenario where a class Vehicle has an attribute type. Derive a class Car and further derive a class ElectricCar that adds a battery attribute.  Base class\n",
        "class Vehicle:\n",
        "    def __init__(self, vehicle_type):\n",
        "        self.type = vehicle_type\n",
        "\n",
        "    def display_info(self):\n",
        "        print(f\"Vehicle Type: {self.type}\")\n",
        "\n",
        "# Derived class from Vehicle\n",
        "class Car(Vehicle):\n",
        "    def __init__(self, vehicle_type, brand):\n",
        "        super().__init__(vehicle_type)\n",
        "        self.brand = brand\n",
        "\n",
        "    def display_info(self):\n",
        "        super().display_info()\n",
        "        print(f\"Car Brand: {self.brand}\")\n",
        "\n",
        "# Further derived class from Car\n",
        "class ElectricCar(Car):\n",
        "    def __init__(self, vehicle_type, brand, battery_capacity):\n",
        "        super().__init__(vehicle_type, brand)\n",
        "        self.battery = battery_capacity\n",
        "\n",
        "    def display_info(self):\n",
        "        super().display_info()\n",
        "        print(f\"Battery Capacity: {self.battery} kWh\")\n",
        "\n",
        "# Example usage\n",
        "e_car = ElectricCar(\"Four-wheeler\", \"Tesla\", 75)\n",
        "e_car.display_info()\n"
      ],
      "metadata": {
        "colab": {
          "base_uri": "https://localhost:8080/"
        },
        "id": "rEIBoDepzmmQ",
        "outputId": "6572c468-9f92-4aad-d694-bddaf044c07c"
      },
      "execution_count": null,
      "outputs": [
        {
          "output_type": "stream",
          "name": "stdout",
          "text": [
            "Vehicle Type: Four-wheeler\n",
            "Car Brand: Tesla\n",
            "Battery Capacity: 75 kWh\n"
          ]
        }
      ]
    },
    {
      "cell_type": "code",
      "source": [
        "#Demonstrate polymorphism by creating a base class Bird with a method fly(). Create two derived classes Sparrow and Penguin that override the fly() method.\n",
        "class bird:\n",
        "  def fly(self):\n",
        "    pass\n",
        "class sparrow:\n",
        "   def fly(self):\n",
        "        print(\"sparrow can fly\")\n",
        "class penguin:\n",
        "    def fly(self):\n",
        "            print(\"penguin can not fly\")\n",
        "d=sparrow()\n",
        "d.fly()\n",
        "e=penguin()\n",
        "e.fly()\n",
        "\n"
      ],
      "metadata": {
        "colab": {
          "base_uri": "https://localhost:8080/"
        },
        "id": "eTsTap1A2xYn",
        "outputId": "5e205af6-4801-4fec-bbfe-9ce58df2976c"
      },
      "execution_count": null,
      "outputs": [
        {
          "output_type": "stream",
          "name": "stdout",
          "text": [
            "sparrow can fly\n",
            "penguin can not fly\n"
          ]
        }
      ]
    },
    {
      "cell_type": "code",
      "source": [
        "# Write a program to demonstrate encapsulation by creating a class BankAccount with private attributes balance and methods to deposit, withdraw, and check balance\n",
        "class BankAccount:\n",
        "    def __init__(self, initial_balance=0):\n",
        "\n",
        "        self.__balance = initial_balance\n",
        "\n",
        "    def deposit(self, amount):\n",
        "        if amount > 0:\n",
        "            self.__balance += amount\n",
        "            print(f\"Deposited ${amount}. New balance: ${self.__balance}\")\n",
        "        else:\n",
        "            print(\"Deposit amount must be positive.\")\n",
        "\n",
        "    def withdraw(self, amount):\n",
        "        if amount > 0:\n",
        "            if amount <= self.__balance:\n",
        "                self.__balance -= amount\n",
        "                print(f\"Withdrew ${amount}. New balance: ${self.__balance}\")\n",
        "            else:\n",
        "                print(\"Insufficient balance.\")\n",
        "        else:\n",
        "            print(\"Withdrawal amount must be positive.\")\n",
        "\n",
        "    def check_balance(self):\n",
        "        print(f\"Current balance: ${self.__balance}\")\n",
        "        return self.__balance\n",
        "\n",
        "\n",
        "\n",
        "account = BankAccount(100)\n",
        "account.check_balance()\n",
        "account.deposit(50)\n",
        "account.withdraw(30)\n",
        "account.withdraw(150)\n",
        "account.check_balance()\n",
        "\n"
      ],
      "metadata": {
        "id": "xaTZYwVz3scq"
      },
      "execution_count": null,
      "outputs": []
    },
    {
      "cell_type": "code",
      "source": [
        "#Demonstrate runtime polymorphism using a method play() in a base class Instrument. Derive classes Guitar and Piano that implement their own version of play().\n",
        "class Instrument:\n",
        "    def play(self):\n",
        "        print(\"Playing the instrument.\")\n",
        "\n",
        "class Guitar(Instrument):\n",
        "    def play(self):\n",
        "        print(\"Playing the guitar with strumming.\")\n",
        "\n",
        "class Piano(Instrument):\n",
        "    def play(self):\n",
        "        print(\"Playing the piano with keys.\")\n",
        "\n",
        "\n",
        "def perform(instrument):\n",
        "    instrument.play()\n",
        "\n",
        "\n",
        "guitar = Guitar()\n",
        "piano = Piano()\n",
        "\n",
        "\n",
        "perform(guitar)\n",
        "perform(piano)\n"
      ],
      "metadata": {
        "colab": {
          "base_uri": "https://localhost:8080/"
        },
        "id": "4Rr3lvTA7NKM",
        "outputId": "ddf87b5d-0506-4b8d-d1c0-e08600eb829a"
      },
      "execution_count": null,
      "outputs": [
        {
          "output_type": "stream",
          "name": "stdout",
          "text": [
            "Playing the guitar with strumming.\n",
            "Playing the piano with keys.\n"
          ]
        }
      ]
    },
    {
      "cell_type": "code",
      "source": [
        "# Create a class MathOperations with a class method add_numbers() to add two numbers and a static method subtract_numbers() to subtract two numbers\n",
        "class MathOperations:\n",
        "    @classmethod\n",
        "    def add_numbers(cls, a, b):\n",
        "        return a + b\n",
        "\n",
        "    @staticmethod\n",
        "    def subtract_numbers(a, b):\n",
        "        return a - b\n",
        "\n",
        "\n",
        "print(\"Addition:\", MathOperations.add_numbers(10, 5))\n",
        "print(\"Subtraction:\", MathOperations.subtract_numbers(10, 5))\n"
      ],
      "metadata": {
        "id": "kfU2fMUA9m7F"
      },
      "execution_count": null,
      "outputs": []
    },
    {
      "cell_type": "code",
      "source": [
        "# Implement a class Person with a class method to count the total number of persons created\n",
        "class Person:\n",
        "\n",
        "    __count = 0\n",
        "\n",
        "    def __init__(self, name):\n",
        "        self.name = name\n",
        "\n",
        "        Person.__count += 1\n",
        "\n",
        "    @classmethod\n",
        "    def total_persons(cls):\n",
        "        return cls.__count\n",
        "\n",
        "\n",
        "p1 = Person(\"Alice\")\n",
        "p2 = Person(\"Bob\")\n",
        "p3 = Person(\"Charlie\")\n",
        "\n",
        "print(\"Total persons created:\", Person.total_persons())\n",
        "\n"
      ],
      "metadata": {
        "id": "SUOY-mBr-Jsk"
      },
      "execution_count": null,
      "outputs": []
    },
    {
      "cell_type": "code",
      "source": [
        "# Write a class Fraction with attributes numerator and denominator. Override the str method to display the fraction as \"numerator/denominator\".\n",
        "class Person:\n",
        "\n",
        "    __count = 0\n",
        "\n",
        "    def __init__(self, name):\n",
        "        self.name = name\n",
        "\n",
        "        Person.__count += 1\n",
        "\n",
        "    @classmethod\n",
        "    def total_persons(cls):\n",
        "        return cls.__count\n",
        "\n",
        "\n",
        "\n",
        "p1 = Person(\"Alice\")\n",
        "p2 = Person(\"Bob\")\n",
        "p3 = Person(\"Charlie\")\n",
        "\n",
        "print(\"Total persons created:\", Person.total_persons())\n"
      ],
      "metadata": {
        "id": "EjNWZmT7_kvf"
      },
      "execution_count": null,
      "outputs": []
    },
    {
      "cell_type": "code",
      "source": [
        "# Demonstrate operator overloading by creating a class Vector and overriding the add method to add two vectors\n",
        "class vector:\n",
        "    def __init__(self, x, y):\n",
        "        self.x = x\n",
        "        self.y = y\n",
        "\n",
        "    def __add__(self, other):\n",
        "        return vector(self.x + other.x, self.y + other.y)\n"
      ],
      "metadata": {
        "id": "j9US1C9BsoIH"
      },
      "execution_count": null,
      "outputs": []
    },
    {
      "cell_type": "code",
      "source": [
        "# Create a class Person with attributes name and age. Add a method greet() that prints \"Hello, my name is {name} and I am {age} years old.\"\n",
        "class Person:\n",
        "    def __init__(self, name, age):\n",
        "        self.name = name\n",
        "        self.age = age\n",
        "\n",
        "    def greet(self):\n",
        "        print(f\"Hello, my name is {self.name} and I am {self.age} years old.\")\n",
        "p1=Person(\"om\",19)\n",
        "p1.greet()"
      ],
      "metadata": {
        "colab": {
          "base_uri": "https://localhost:8080/"
        },
        "id": "sgko_g_BwJTz",
        "outputId": "038a7918-8c53-47c2-9981-338a59e5897f"
      },
      "execution_count": null,
      "outputs": [
        {
          "output_type": "stream",
          "name": "stdout",
          "text": [
            "Hello, my name is om and I am 19 years old.\n"
          ]
        }
      ]
    },
    {
      "cell_type": "code",
      "source": [
        "# Implement a class Student with attributes name and grades. Create a method average_grade() to compute the average of the grades.\n",
        "class Student:\n",
        "    def __init__(self, name):\n",
        "        self.name = name\n",
        "        self.grades = []\n",
        "\n",
        "    def add_grade(self, grade):\n",
        "        self.grades.append(grade)\n",
        "s1=Student(\"om\")\n",
        "s1.add_grade(10)\n",
        "s1.add_grade(20)\n",
        "s1.add_grade(30)\n",
        "s1.grades"
      ],
      "metadata": {
        "colab": {
          "base_uri": "https://localhost:8080/"
        },
        "id": "kf9KiGTAw9bv",
        "outputId": "1f58269b-aebe-42ba-e02a-1aef8a8ecf5c"
      },
      "execution_count": null,
      "outputs": [
        {
          "output_type": "execute_result",
          "data": {
            "text/plain": [
              "[10, 20, 30]"
            ]
          },
          "metadata": {},
          "execution_count": 8
        }
      ]
    },
    {
      "cell_type": "code",
      "source": [
        "# Create a class Rectangle with methods set_dimensions() to set the dimensions and area() to calculate the area.\n",
        "class Rectangle:\n",
        "    def __init__(self):\n",
        "        self.width = 0\n",
        "        self.height = 0\n",
        "\n",
        "    def set_dimensions(self, width, height):\n",
        "        self.width = width\n",
        "        self.height = height\n",
        "\n",
        "    def area(self):\n",
        "        return self.width * self.height\n",
        "r1 = Rectangle()\n",
        "r1.set_dimensions(3, 6)\n",
        "print(r1.area())\n",
        "\n",
        "\n"
      ],
      "metadata": {
        "colab": {
          "base_uri": "https://localhost:8080/"
        },
        "id": "Ipa4lCNZxs8y",
        "outputId": "00c82ff6-586b-42b8-e92c-5d73e58bee0b"
      },
      "execution_count": null,
      "outputs": [
        {
          "output_type": "stream",
          "name": "stdout",
          "text": [
            "18\n"
          ]
        }
      ]
    },
    {
      "cell_type": "code",
      "source": [
        "#Create a class Employee with a method calculate_salary() that computes the salary based on hours worked and hourly rate. Create a derived class Manager that adds a bonus to the salary.\n",
        "class Employee:\n",
        "    def __init__(self, hours_worked, hourly_rate):\n",
        "        self.hours_worked = hours_worked\n",
        "        self.hourly_rate = hourly_rate\n",
        "\n",
        "    def calculate_salary(self):\n",
        "        return self.hours_worked * self.hourly_rate\n",
        "\n",
        "\n",
        "class Manager(Employee):\n",
        "    def __init__(self, hours_worked, hourly_rate, bonus):\n",
        "        super().__init__(hours_worked, hourly_rate)\n",
        "        self.bonus = bonus\n",
        "\n",
        "    def calculate_salary(self):\n",
        "        base_salary = super().calculate_salary()\n",
        "        return base_salary + self.bonus\n",
        "e1 = Employee(40, 20)\n",
        "print(\"Employee salary:\", e1.calculate_salary())  # Output: 800\n",
        "\n",
        "m1 = Manager(40, 20, 200)\n",
        "print(\"Manager salary:\", m1.calculate_salary())   # Output: 1000\n",
        "\n",
        "\n"
      ],
      "metadata": {
        "colab": {
          "base_uri": "https://localhost:8080/"
        },
        "id": "9uJ3liRIyw6D",
        "outputId": "b0aef6d0-b01b-40d5-9d9e-b7ced9f1835a"
      },
      "execution_count": null,
      "outputs": [
        {
          "output_type": "stream",
          "name": "stdout",
          "text": [
            "Employee salary: 800\n",
            "Manager salary: 1000\n"
          ]
        }
      ]
    },
    {
      "cell_type": "code",
      "source": [
        "#Create a class Product with attributes name, price, and quantity. Implement a method total_price() that calculates the total price of the product\n",
        "from dataclasses import dataclass\n",
        "\n",
        "@dataclass\n",
        "class Product:\n",
        "    name: str\n",
        "    price: float\n",
        "    quantity: int\n",
        "\n",
        "    def total_price(self) -> float:\n",
        "        if self.price < 0:\n",
        "            raise ValueError(\"price cannot be negative\")\n",
        "        if self.quantity < 0:\n",
        "            raise ValueError(\"quantity cannot be negative\")\n",
        "        return self.price * self.quantity\n",
        "\n",
        "# Demo\n",
        "if __name__ == \"__main__\":\n",
        "    p = Product(\"Notebook\", 49.99, 3)\n",
        "    print(p.total_price())  # 149.97\n"
      ],
      "metadata": {
        "colab": {
          "base_uri": "https://localhost:8080/"
        },
        "id": "ZmKUlu0lxK7Z",
        "outputId": "da1b6247-bfdf-489d-de38-a8f76444864e"
      },
      "execution_count": 1,
      "outputs": [
        {
          "output_type": "stream",
          "name": "stdout",
          "text": [
            "149.97\n"
          ]
        }
      ]
    },
    {
      "cell_type": "code",
      "source": [
        "# Create a class Animal with an abstract method sound(). Create two derived classes Cow and Sheep that implement the sound() method.\n",
        "from abc import ABC, abstractmethod\n",
        "\n",
        "class Animal(ABC):\n",
        "    @abstractmethod\n",
        "    def sound(self) -> str:\n",
        "        pass\n",
        "\n",
        "class Cow(Animal):\n",
        "    def sound(self) -> str:\n",
        "        return \"Moo\"\n",
        "\n",
        "class Sheep(Animal):\n",
        "    def sound(self) -> str:\n",
        "        return \"Baa\"\n",
        "\n",
        "# Demo\n",
        "if __name__ == \"__main__\":\n",
        "    animals: list[Animal] = [Cow(), Sheep()]\n",
        "    for a in animals:\n",
        "        print(a.sound())\n"
      ],
      "metadata": {
        "id": "CP0npXyuxgUv"
      },
      "execution_count": null,
      "outputs": []
    },
    {
      "cell_type": "code",
      "source": [
        "#Create a class Book with attributes title, author, and year_published. Add a method get_book_info() that returns a formatted string with the book's details.\n",
        "from dataclasses import dataclass\n",
        "\n",
        "@dataclass\n",
        "class Book:\n",
        "    title: str\n",
        "    author: str\n",
        "    year_published: int\n",
        "\n",
        "    def get_book_info(self) -> str:\n",
        "        return f\"'{self.title}' by {self.author} ({self.year_published})\"\n",
        "\n",
        "# Demo\n",
        "if __name__ == \"__main__\":\n",
        "    b = Book(\"Clean Code\", \"Robert C. Martin\", 2008)\n",
        "    print(b.get_book_info())  # 'Clean Code' by Robert C. Martin (2008)\n"
      ],
      "metadata": {
        "id": "wKkJa8xpxsAw"
      },
      "execution_count": null,
      "outputs": []
    },
    {
      "cell_type": "code",
      "source": [
        "#Create a class House with attributes address and price. Create a derived class Mansion that adds an attribute number_of_rooms.\n",
        "from dataclasses import dataclass\n",
        "\n",
        "@dataclass\n",
        "class House:\n",
        "    address: str\n",
        "    price: float\n",
        "\n",
        "    def __str__(self) -> str:\n",
        "        return f\"House at {self.address} priced at ₹{self.price:,.2f}\"\n",
        "\n",
        "@dataclass\n",
        "class Mansion(House):\n",
        "    number_of_rooms: int = 0\n",
        "\n",
        "    def __str__(self) -> str:\n",
        "        base = super().__str__()\n",
        "        return f\"{base} with {self.number_of_rooms} rooms\"\n",
        "\n",
        "# Demo\n",
        "if __name__ == \"__main__\":\n",
        "    h = House(\"221B Baker Street\", 5_000_000)\n",
        "    m = Mansion(\"Ocean View, Mumbai\", 250_000_000, number_of_rooms=12)\n",
        "    print(h)\n",
        "    print(m)\n"
      ],
      "metadata": {
        "id": "mOXByV5jyCWb"
      },
      "execution_count": null,
      "outputs": []
    }
  ]
}